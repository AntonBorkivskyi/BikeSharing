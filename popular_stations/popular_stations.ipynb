{
 "cells": [
  {
   "cell_type": "code",
   "execution_count": null,
   "metadata": {},
   "outputs": [],
   "source": [
    "import pandas as pd"
   ]
  },
  {
   "cell_type": "code",
   "execution_count": null,
   "metadata": {},
   "outputs": [],
   "source": [
    "data = pd.read_csv('data/2018-citibike-tripdata.csv')"
   ]
  },
  {
   "cell_type": "code",
   "execution_count": null,
   "metadata": {
    "scrolled": true
   },
   "outputs": [],
   "source": [
    "data.head(1)"
   ]
  },
  {
   "cell_type": "markdown",
   "metadata": {},
   "source": [
    "Iterating over dataset and making dictionary of stations.\n",
    "Stations ids are keys and corresponding values are lists containing occurrences of that station and station name."
   ]
  },
  {
   "cell_type": "code",
   "execution_count": null,
   "metadata": {},
   "outputs": [],
   "source": [
    "stations = {}\n",
    "for i in range(len(data)):\n",
    "    start_id = data['start station id'][i]\n",
    "    end_id = data['end station id'][i]\n",
    "    start_name = data['start station name'][i]\n",
    "    end_name = data['end station name'][i]\n",
    "    # print(start_id, \" | \", start_name, \" | \", end_id, \" | \", end_name)\n",
    "    for station_id in [[start_id, start_name], [end_id, end_name]]:\n",
    "        try:\n",
    "            int(station_id)\n",
    "            if station_id[0] in stations:\n",
    "                stations[station_id[0]][0] += 1\n",
    "            else:\n",
    "                stations[station_id[0]] = [1, station_id[1]]\n",
    "        except:\n",
    "            pass"
   ]
  },
  {
   "cell_type": "markdown",
   "metadata": {},
   "source": [
    "Sorting stations by their occurrences in descending order"
   ]
  },
  {
   "cell_type": "code",
   "execution_count": null,
   "metadata": {},
   "outputs": [],
   "source": [
    "values = [v for k, v in stations.items()]\n",
    "print(sorted(values, reverse = True))"
   ]
  }
 ],
 "metadata": {
  "kernelspec": {
   "display_name": "Python 3",
   "language": "python",
   "name": "python3"
  },
  "language_info": {
   "codemirror_mode": {
    "name": "ipython",
    "version": 3
   },
   "file_extension": ".py",
   "mimetype": "text/x-python",
   "name": "python",
   "nbconvert_exporter": "python",
   "pygments_lexer": "ipython3",
   "version": "3.5.2"
  }
 },
 "nbformat": 4,
 "nbformat_minor": 2
}
